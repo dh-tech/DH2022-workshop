{
 "cells": [
  {
   "cell_type": "code",
   "execution_count": 16,
   "id": "8eac25fe-ed64-411f-adc2-620a045dbb75",
   "metadata": {},
   "outputs": [],
   "source": [
    "from rdflib import Dataset, URIRef, Literal\n",
    "from rdflib import Namespace\n",
    "from rdflib.namespace import RDF, RDFS"
   ]
  },
  {
   "cell_type": "code",
   "execution_count": 17,
   "id": "8d2da2b6-e413-4531-9599-3df232166570",
   "metadata": {},
   "outputs": [],
   "source": [
    "CRM = Namespace('http://cidoc-crm.org/cidoc-crm/')"
   ]
  },
  {
   "cell_type": "code",
   "execution_count": 18,
   "id": "64549339-27cf-4644-9bc2-2986c9142398",
   "metadata": {},
   "outputs": [],
   "source": [
    "# the URI for our named graph that will contain our data\n",
    "anno_named_graph_uri = 'http://example.org/ns/users/malte/genesis-example-geo2'\n",
    "anno_named_graph_uriref = URIRef(anno_named_graph_uri)"
   ]
  },
  {
   "cell_type": "code",
   "execution_count": 19,
   "id": "0e42d686-25ae-49ea-a530-175e5055ca60",
   "metadata": {},
   "outputs": [],
   "source": [
    "# open a connection to the Blazegraph triple store\n",
    "blazegraph_uri = 'http://localhost:8080/blazegraph/namespace/kb/sparql'\n",
    "store = Dataset('SPARQLUpdateStore')\n",
    "store.open((blazegraph_uri, blazegraph_uri))"
   ]
  },
  {
   "cell_type": "code",
   "execution_count": 20,
   "id": "3a77f485-f5b5-410f-9710-21fcc5f16ecb",
   "metadata": {},
   "outputs": [],
   "source": [
    "# find our named graph if it exists or create a new one\n",
    "anno_named_graph = None\n",
    "for g in store.graphs():\n",
    "    if g.identifier == anno_named_graph_uriref:\n",
    "        anno_named_graph = g\n",
    "\n",
    "if anno_named_graph is None:\n",
    "    anno_named_graph = store.graph(anno_named_graph_uriref)"
   ]
  },
  {
   "cell_type": "code",
   "execution_count": 21,
   "id": "8152b24b-613a-48c2-b47a-a539be701174",
   "metadata": {},
   "outputs": [],
   "source": [
    "# find all annotations of type PERSON and extract the annotated name\n",
    "persons = {}\n",
    "\n",
    "res = anno_named_graph.query(\"\"\"\n",
    "prefix oa: <http://www.w3.org/ns/oa#>\n",
    "\n",
    "SELECT ?anno ?name\n",
    "WHERE {\n",
    "  GRAPH <%s> {\n",
    "    ?anno a oa:Annotation ;\n",
    "      oa:hasBody / rdf:value \"PERSON\" ;\n",
    "      oa:hasTarget / oa:hasSelector / oa:exact ?name .\n",
    "  }\n",
    "}\n",
    "\"\"\"%(anno_named_graph_uri))\n",
    "\n",
    "for r in res:\n",
    "    name = str(r.name)\n",
    "    if name in persons:\n",
    "        persons[name].append(r.anno)\n",
    "    else:\n",
    "        persons[name] = [r.anno]"
   ]
  },
  {
   "cell_type": "code",
   "execution_count": 22,
   "id": "ce0fda12-2209-4efb-ad5a-588384f0724e",
   "metadata": {},
   "outputs": [],
   "source": [
    "#persons"
   ]
  },
  {
   "cell_type": "code",
   "execution_count": 23,
   "id": "a4f58af1-8f3d-4d4a-9184-c0f36fdefc0c",
   "metadata": {},
   "outputs": [],
   "source": [
    "# find all annotations of type River and extract the annotated name\n",
    "rivers = {}\n",
    "\n",
    "res = anno_named_graph.query(\"\"\"\n",
    "prefix oa: <http://www.w3.org/ns/oa#>\n",
    "\n",
    "SELECT ?anno ?name\n",
    "WHERE {\n",
    "  GRAPH <%s> {\n",
    "    ?anno a oa:Annotation ;\n",
    "      oa:hasBody / rdf:value \"River\" ;\n",
    "      oa:hasTarget / oa:hasSelector / oa:exact ?name .\n",
    "  }\n",
    "}\n",
    "\"\"\"%(anno_named_graph_uri))\n",
    "\n",
    "for r in res:\n",
    "    name = str(r.name)\n",
    "    if name in rivers:\n",
    "        rivers[name].append(r.anno)\n",
    "    else:\n",
    "        rivers[name] = [r.anno]"
   ]
  },
  {
   "cell_type": "code",
   "execution_count": 24,
   "id": "9284f510-c5df-4f9e-ab75-ed8b0ba8a834",
   "metadata": {},
   "outputs": [
    {
     "data": {
      "text/plain": [
       "{'Pishon': [rdflib.term.URIRef('https://recogito.pelagios.org/annotation/73b5f0a0-09aa-49aa-9cfa-84de5e13e192')],\n",
       " 'Gihon': [rdflib.term.URIRef('https://recogito.pelagios.org/annotation/9e2504b7-e4f3-41c5-9c19-2d72ebc9ee50')],\n",
       " 'Hiddekel': [rdflib.term.URIRef('https://recogito.pelagios.org/annotation/00491e8c-0699-486e-9146-da308639d073')]}"
      ]
     },
     "execution_count": 24,
     "metadata": {},
     "output_type": "execute_result"
    }
   ],
   "source": [
    "rivers"
   ]
  },
  {
   "cell_type": "code",
   "execution_count": 25,
   "id": "3529cec9-c03c-4066-b8c9-7f03b787c8e5",
   "metadata": {},
   "outputs": [],
   "source": [
    "# find all annotations of type Feature and extract the annotated name\n",
    "features = {}\n",
    "\n",
    "res = anno_named_graph.query(\"\"\"\n",
    "prefix oa: <http://www.w3.org/ns/oa#>\n",
    "\n",
    "SELECT ?anno ?name\n",
    "WHERE {\n",
    "  GRAPH <%s> {\n",
    "    ?anno a oa:Annotation ;\n",
    "      oa:hasBody / rdf:value \"PLACE\" ;\n",
    "      oa:hasTarget / oa:hasSelector / oa:exact ?name .\n",
    "  }\n",
    "}\n",
    "\"\"\"%(anno_named_graph_uri))\n",
    "\n",
    "for r in res:\n",
    "    name = str(r.name)\n",
    "    if name in features:\n",
    "        features[name].append(r.anno)\n",
    "    else:\n",
    "        features[name] = [r.anno]"
   ]
  },
  {
   "cell_type": "code",
   "execution_count": 26,
   "id": "d0a18385-08ce-4845-b408-df67d702fa5c",
   "metadata": {},
   "outputs": [
    {
     "data": {
      "text/plain": [
       "{'Methushael': [rdflib.term.URIRef('https://recogito.pelagios.org/annotation/a061cacc-3191-4e59-8d4b-c52ebcffc8f1')],\n",
       " 'Lamech': [rdflib.term.URIRef('https://recogito.pelagios.org/annotation/437b4a2d-7083-432d-bab4-852d137541cb')],\n",
       " 'Mehujael': [rdflib.term.URIRef('https://recogito.pelagios.org/annotation/f4c56c2b-9075-4efc-9337-bb16b4680be7')],\n",
       " 'Havilah': [rdflib.term.URIRef('https://recogito.pelagios.org/annotation/f0e8178e-de36-4715-af4f-d45084eaa432')],\n",
       " 'Arpachshad': [rdflib.term.URIRef('https://recogito.pelagios.org/annotation/d15919ed-34f4-464c-9268-5a153ac90342')],\n",
       " 'Lehabim': [rdflib.term.URIRef('https://recogito.pelagios.org/annotation/d46d8d96-9026-4cde-b5c6-49f602d3579a')],\n",
       " 'Pishon': [rdflib.term.URIRef('https://recogito.pelagios.org/annotation/73b5f0a0-09aa-49aa-9cfa-84de5e13e192')],\n",
       " 'Shinar': [rdflib.term.URIRef('https://recogito.pelagios.org/annotation/fb7a0ada-ab35-4f43-b8f9-9b0e4fbce533')],\n",
       " 'Javan': [rdflib.term.URIRef('https://recogito.pelagios.org/annotation/3e51e2f0-5fe0-4aec-b6aa-49a5439dd3f2')],\n",
       " 'Caphtorim': [rdflib.term.URIRef('https://recogito.pelagios.org/annotation/bb50d663-fcea-4635-838a-02ecba9ccca3')],\n",
       " 'Ludim': [rdflib.term.URIRef('https://recogito.pelagios.org/annotation/e09cc1ea-8f4e-47f9-aa34-c7d4bd4cd3cd')],\n",
       " 'Joktan': [rdflib.term.URIRef('https://recogito.pelagios.org/annotation/0f953356-1fc9-43bd-b060-e456c4d33a6e'),\n",
       "  rdflib.term.URIRef('https://recogito.pelagios.org/annotation/719bfed7-17fe-43b4-9656-da294610ae3f'),\n",
       "  rdflib.term.URIRef('https://recogito.pelagios.org/annotation/14c2b10a-c395-41ef-92ce-da1472a96306')],\n",
       " 'Pathrusim': [rdflib.term.URIRef('https://recogito.pelagios.org/annotation/ead4b5d4-3061-4cdd-8485-c2479b2d90b4')],\n",
       " 'Anamim': [rdflib.term.URIRef('https://recogito.pelagios.org/annotation/aad73d4a-4ba7-4972-b255-891821ed39f8')],\n",
       " 'Lasha': [rdflib.term.URIRef('https://recogito.pelagios.org/annotation/046f11b9-ca66-4afd-9b81-9543d43b9725')],\n",
       " 'Naphtuhim': [rdflib.term.URIRef('https://recogito.pelagios.org/annotation/9b8b45ce-611f-42da-ba74-63ec02a09e8b')],\n",
       " 'Almodad': [rdflib.term.URIRef('https://recogito.pelagios.org/annotation/67bdc105-d3a7-432e-94b9-20aa12fd0851')],\n",
       " 'Hiddekel': [rdflib.term.URIRef('https://recogito.pelagios.org/annotation/00491e8c-0699-486e-9146-da308639d073')],\n",
       " 'Sabteca': [rdflib.term.URIRef('https://recogito.pelagios.org/annotation/0d2821f2-4cf6-4e7d-8e15-664422219b90')]}"
      ]
     },
     "execution_count": 26,
     "metadata": {},
     "output_type": "execute_result"
    }
   ],
   "source": [
    "features"
   ]
  },
  {
   "cell_type": "code",
   "execution_count": 27,
   "id": "ed47b782-1b12-4659-a323-b108a4b88fb0",
   "metadata": {},
   "outputs": [],
   "source": [
    "# create crm:E21_Person entries for each person\n",
    "for name, annos in persons.items():\n",
    "    person_uri = URIRef(f\"{anno_named_graph_uri}/persons/{name}\")\n",
    "    # person_uri is a crm:E21_Person\n",
    "    anno_named_graph.add((person_uri, RDF.type, CRM.E21_Person))\n",
    "    # person has label name\n",
    "    anno_named_graph.add((person_uri, RDFS.label, Literal(name)))\n",
    "    \n",
    "    for anno_uri in annos:\n",
    "        # annotation_uri documents person_uri \n",
    "        anno_named_graph.add((anno_uri, CRM.E70_documents, person_uri))\n"
   ]
  },
  {
   "cell_type": "code",
   "execution_count": 28,
   "id": "66eeece3-6e3e-4198-a14c-e52ed5d170e7",
   "metadata": {},
   "outputs": [],
   "source": [
    "# create crm:E53_Place entries for each river\n",
    "for name, annos in rivers.items():\n",
    "    river_uri = URIRef(f\"{anno_named_graph_uri}/rivers/{name}\")\n",
    "    # person_uri is a crm:E21_Person\n",
    "    anno_named_graph.add((river_uri, RDF.type, CRM.E53_Place))\n",
    "    # person has label name\n",
    "    anno_named_graph.add((river_uri, RDFS.label, Literal(name)))\n",
    "    \n",
    "    for anno_uri in annos:\n",
    "        # annotation_uri documents person_uri \n",
    "        anno_named_graph.add((anno_uri, CRM.E70_documents, river_uri))\n"
   ]
  },
  {
   "cell_type": "code",
   "execution_count": 29,
   "id": "3eb920dc-bf41-463c-a32b-f38c48d19568",
   "metadata": {},
   "outputs": [],
   "source": [
    "# create crm:E53_Place entries for each river\n",
    "for name, annos in features.items():\n",
    "    river_uri = URIRef(f\"{anno_named_graph_uri}/places/{name}\")\n",
    "    # person_uri is a crm:E21_Person\n",
    "    try:\n",
    "        anno_named_graph.add((river_uri, RDF.type, CRM.E53_Place))\n",
    "    except Exception as e:\n",
    "        print(river_uri, e)\n",
    "        pass\n",
    "    # person has label name\n",
    "    try:\n",
    "        anno_named_graph.add((river_uri, RDFS.label, Literal(name)))\n",
    "    except Exception as e: \n",
    "        print(river_uri, e)\n",
    "\n",
    "    for anno_uri in annos:\n",
    "        # annotation_uri documents person_uri \n",
    "        try:\n",
    "            anno_named_graph.add((anno_uri, CRM.E70_documents, river_uri))\n",
    "        except Exception as e:\n",
    "            print(anno_uri, e)\n",
    "            pass\n"
   ]
  },
  {
   "cell_type": "code",
   "execution_count": 30,
   "id": "42dc9ffc-73b7-411c-9211-9af57f399a19",
   "metadata": {},
   "outputs": [],
   "source": [
    "store.close()"
   ]
  },
  {
   "cell_type": "code",
   "execution_count": null,
   "id": "a1e9d479-2a63-45b7-b84d-00d59601ae2a",
   "metadata": {},
   "outputs": [],
   "source": []
  }
 ],
 "metadata": {
  "kernelspec": {
   "display_name": "Python 3 (ipykernel)",
   "language": "python",
   "name": "python3"
  },
  "language_info": {
   "codemirror_mode": {
    "name": "ipython",
    "version": 3
   },
   "file_extension": ".py",
   "mimetype": "text/x-python",
   "name": "python",
   "nbconvert_exporter": "python",
   "pygments_lexer": "ipython3",
   "version": "3.9.7"
  }
 },
 "nbformat": 4,
 "nbformat_minor": 5
}
