{
 "cells": [
  {
   "cell_type": "code",
   "execution_count": 30,
   "id": "2b04190d-7505-4a59-a4f2-d6a68be477c4",
   "metadata": {},
   "outputs": [],
   "source": [
    "context = '    \"@context\":\"https://geojson.org/geojson-ld/geojson-context.jsonld\",\\n'\n",
    "\n",
    "infile = \"./hopper-places-2.jsonld\"\n",
    "outfile = \"./hopper-places-fix.jsonld\"\n",
    "\n",
    "with open(infile, 'r+') as file: \n",
    "    data = file.readlines()\n",
    "\n",
    "pos= []\n",
    "for idx, elem in enumerate(data):\n",
    "    if elem == '    \"type\" : \"Feature\",\\n':\n",
    "        pos.append(idx)\n",
    "\n",
    "i=1\n",
    "for position in pos:\n",
    "    idx = position + i\n",
    "    data.insert(idx, context)\n",
    "    i+=1\n",
    "\n",
    "with open(outfile, 'w') as outfile:\n",
    "    outfile.writelines(data)"
   ]
  },
  {
   "cell_type": "code",
   "execution_count": null,
   "id": "f236cb40-36de-4ee8-b407-1af8abff5d97",
   "metadata": {},
   "outputs": [],
   "source": []
  }
 ],
 "metadata": {
  "kernelspec": {
   "display_name": "Python 3 (ipykernel)",
   "language": "python",
   "name": "python3"
  },
  "language_info": {
   "codemirror_mode": {
    "name": "ipython",
    "version": 3
   },
   "file_extension": ".py",
   "mimetype": "text/x-python",
   "name": "python",
   "nbconvert_exporter": "python",
   "pygments_lexer": "ipython3",
   "version": "3.9.7"
  }
 },
 "nbformat": 4,
 "nbformat_minor": 5
}
