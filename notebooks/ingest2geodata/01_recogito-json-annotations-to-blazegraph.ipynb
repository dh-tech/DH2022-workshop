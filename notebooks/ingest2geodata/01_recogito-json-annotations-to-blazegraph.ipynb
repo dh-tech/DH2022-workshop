{
 "cells": [
  {
   "cell_type": "code",
   "execution_count": 22,
   "id": "c526513a-b38c-4f1b-ba81-5b93539f54cc",
   "metadata": {},
   "outputs": [],
   "source": [
    "from rdflib import Graph, Dataset, URIRef\n",
    "import re"
   ]
  },
  {
   "cell_type": "code",
   "execution_count": 23,
   "id": "7ad9823a-66da-4b40-b632-0fbc35ccb387",
   "metadata": {},
   "outputs": [],
   "source": [
    "datapath = \"/home/jupyter-mvogl/mydata/\""
   ]
  },
  {
   "cell_type": "code",
   "execution_count": 24,
   "id": "20a42114-1e7f-48eb-849a-bd2d5e476154",
   "metadata": {},
   "outputs": [],
   "source": [
    "# the URI for our named graph that will contain our data\n",
    "anno_named_graph_uri = URIRef(f'http://example.org/ns/users/malte/genesis-example-geo2')"
   ]
  },
  {
   "cell_type": "code",
   "execution_count": 25,
   "id": "b46fab8b-67db-410a-b27d-c7d84607fd86",
   "metadata": {},
   "outputs": [
    {
     "data": {
      "text/plain": [
       "<Graph identifier=Na7049bacda2e47a0b3285ff1838b5081 (<class 'rdflib.graph.Graph'>)>"
      ]
     },
     "execution_count": 25,
     "metadata": {},
     "output_type": "execute_result"
    }
   ],
   "source": [
    "# read the JSON-LD file with annotations from Recogito into a Graph\n",
    "anno_graph = Graph()\n",
    "anno_graph.parse(f'{datapath}gtclbuppjmot3c(1).jsonld', \n",
    "                format='json-ld',\n",
    "                publicId=anno_named_graph_uri)"
   ]
  },
  {
   "cell_type": "code",
   "execution_count": 26,
   "id": "b8d16840-a227-4af4-9e13-a68f28b62b42",
   "metadata": {},
   "outputs": [
    {
     "data": {
      "text/plain": [
       "{rdflib.term.URIRef('http://purl.org/dc/terms/creator'),\n",
       " rdflib.term.URIRef('http://purl.org/dc/terms/issued'),\n",
       " rdflib.term.URIRef('http://purl.org/dc/terms/modified'),\n",
       " rdflib.term.URIRef('http://www.w3.org/1999/02/22-rdf-syntax-ns#first'),\n",
       " rdflib.term.URIRef('http://www.w3.org/1999/02/22-rdf-syntax-ns#rest'),\n",
       " rdflib.term.URIRef('http://www.w3.org/1999/02/22-rdf-syntax-ns#type'),\n",
       " rdflib.term.URIRef('http://www.w3.org/1999/02/22-rdf-syntax-ns#value'),\n",
       " rdflib.term.URIRef('http://www.w3.org/2000/01/rdf-schema#label'),\n",
       " rdflib.term.URIRef('http://www.w3.org/ns/activitystreams#generator'),\n",
       " rdflib.term.URIRef('http://www.w3.org/ns/oa#end'),\n",
       " rdflib.term.URIRef('http://www.w3.org/ns/oa#exact'),\n",
       " rdflib.term.URIRef('http://www.w3.org/ns/oa#hasBody'),\n",
       " rdflib.term.URIRef('http://www.w3.org/ns/oa#hasPurpose'),\n",
       " rdflib.term.URIRef('http://www.w3.org/ns/oa#hasSelector'),\n",
       " rdflib.term.URIRef('http://www.w3.org/ns/oa#hasSource'),\n",
       " rdflib.term.URIRef('http://www.w3.org/ns/oa#hasTarget'),\n",
       " rdflib.term.URIRef('http://www.w3.org/ns/oa#start'),\n",
       " rdflib.term.URIRef('http://xmlns.com/foaf/0.1/homepage'),\n",
       " rdflib.term.URIRef('http://xmlns.com/foaf/0.1/name'),\n",
       " rdflib.term.URIRef('https://purl.org/geojson/vocab#coordinates'),\n",
       " rdflib.term.URIRef('https://purl.org/geojson/vocab#geometry')}"
      ]
     },
     "execution_count": 26,
     "metadata": {},
     "output_type": "execute_result"
    }
   ],
   "source": [
    "set([x for x in anno_graph.predicates()])"
   ]
  },
  {
   "cell_type": "code",
   "execution_count": 27,
   "id": "4f76a72f-acde-423b-a758-bd2bccb0b0a7",
   "metadata": {},
   "outputs": [
    {
     "data": {
      "text/plain": [
       "[('brick', rdflib.term.URIRef('https://brickschema.org/schema/Brick#')),\n",
       " ('csvw', rdflib.term.URIRef('http://www.w3.org/ns/csvw#')),\n",
       " ('dc', rdflib.term.URIRef('http://purl.org/dc/elements/1.1/')),\n",
       " ('dcat', rdflib.term.URIRef('http://www.w3.org/ns/dcat#')),\n",
       " ('dcmitype', rdflib.term.URIRef('http://purl.org/dc/dcmitype/')),\n",
       " ('dcterms', rdflib.term.URIRef('http://purl.org/dc/terms/')),\n",
       " ('dcam', rdflib.term.URIRef('http://purl.org/dc/dcam/')),\n",
       " ('doap', rdflib.term.URIRef('http://usefulinc.com/ns/doap#')),\n",
       " ('foaf', rdflib.term.URIRef('http://xmlns.com/foaf/0.1/')),\n",
       " ('odrl', rdflib.term.URIRef('http://www.w3.org/ns/odrl/2/')),\n",
       " ('org', rdflib.term.URIRef('http://www.w3.org/ns/org#')),\n",
       " ('owl', rdflib.term.URIRef('http://www.w3.org/2002/07/owl#')),\n",
       " ('prof', rdflib.term.URIRef('http://www.w3.org/ns/dx/prof/')),\n",
       " ('prov', rdflib.term.URIRef('http://www.w3.org/ns/prov#')),\n",
       " ('qb', rdflib.term.URIRef('http://purl.org/linked-data/cube#')),\n",
       " ('rdf', rdflib.term.URIRef('http://www.w3.org/1999/02/22-rdf-syntax-ns#')),\n",
       " ('rdfs', rdflib.term.URIRef('http://www.w3.org/2000/01/rdf-schema#')),\n",
       " ('schema', rdflib.term.URIRef('https://schema.org/')),\n",
       " ('sh', rdflib.term.URIRef('http://www.w3.org/ns/shacl#')),\n",
       " ('skos', rdflib.term.URIRef('http://www.w3.org/2004/02/skos/core#')),\n",
       " ('sosa', rdflib.term.URIRef('http://www.w3.org/ns/sosa/')),\n",
       " ('ssn', rdflib.term.URIRef('http://www.w3.org/ns/ssn/')),\n",
       " ('time', rdflib.term.URIRef('http://www.w3.org/2006/time#')),\n",
       " ('vann', rdflib.term.URIRef('http://purl.org/vocab/vann/')),\n",
       " ('void', rdflib.term.URIRef('http://rdfs.org/ns/void#')),\n",
       " ('xsd', rdflib.term.URIRef('http://www.w3.org/2001/XMLSchema#')),\n",
       " ('xml', rdflib.term.URIRef('http://www.w3.org/XML/1998/namespace'))]"
      ]
     },
     "execution_count": 27,
     "metadata": {},
     "output_type": "execute_result"
    }
   ],
   "source": [
    "[x for x in anno_graph.namespaces()]"
   ]
  },
  {
   "cell_type": "code",
   "execution_count": 28,
   "id": "5d3aecd9-6935-4b82-8e2f-d9ff28f6e93f",
   "metadata": {},
   "outputs": [
    {
     "data": {
      "text/plain": [
       "<Graph identifier=Na7049bacda2e47a0b3285ff1838b5081 (<class 'rdflib.graph.Graph'>)>"
      ]
     },
     "execution_count": 28,
     "metadata": {},
     "output_type": "execute_result"
    }
   ],
   "source": [
    "# write the Graph with annotations to a n-triples file\n",
    "anno_graph.serialize('recogito-genesis-annotations.nt', format='nt', encoding='utf-8')"
   ]
  },
  {
   "cell_type": "code",
   "execution_count": 29,
   "id": "fc146d2d-c200-48de-b199-abbf70984b3c",
   "metadata": {},
   "outputs": [],
   "source": [
    "# read the n-triples file and replace all blank nodes (starting with _:) with real URIs\n",
    "# and write that to a new file\n",
    "with open('recogito-genesis-annotations.nt', 'r') as infile, open('recogito-genesis-annotations-nb.nt', 'w') as outfile:\n",
    "    for line in infile:\n",
    "        line = re.sub(r'_:([^ ]+)', r'<http://example.org/ns/users/malte/genesis-example-geo2/bnode_\\1>', line)\n",
    "        print(line, file=outfile)"
   ]
  },
  {
   "cell_type": "code",
   "execution_count": 30,
   "id": "88c811cc-46d9-4486-a428-842d774dad8f",
   "metadata": {},
   "outputs": [],
   "source": [
    "# open a connection to the Blazegraph triple store\n",
    "blazegraph_uri = 'http://localhost:8080/blazegraph/namespace/kb/sparql'\n",
    "store = Dataset('SPARQLUpdateStore')\n",
    "store.open((blazegraph_uri, blazegraph_uri))"
   ]
  },
  {
   "cell_type": "code",
   "execution_count": 31,
   "id": "6415ca03-c3f0-446e-8085-5161fbead0dc",
   "metadata": {},
   "outputs": [],
   "source": [
    "# find our named graph if it exists or create a new one\n",
    "anno_named_graph = None\n",
    "for g in store.graphs():\n",
    "    if g.identifier == anno_named_graph_uri:\n",
    "        anno_named_graph = g\n",
    "if anno_named_graph is None:\n",
    "    anno_named_graph = store.graph(URIRef(anno_named_graph_uri))"
   ]
  },
  {
   "cell_type": "code",
   "execution_count": 32,
   "id": "3a05a975-081a-40cf-ad41-308bcbfc0bab",
   "metadata": {},
   "outputs": [
    {
     "data": {
      "text/plain": [
       "<Graph identifier=http://example.org/ns/users/malte/genesis-example-geo2 (<class 'rdflib.graph.Graph'>)>"
      ]
     },
     "execution_count": 32,
     "metadata": {},
     "output_type": "execute_result"
    }
   ],
   "source": [
    "# parse our modified n-triples file into our named graph (takes a while)\n",
    "anno_named_graph.parse('recogito-genesis-annotations-nb.nt')"
   ]
  },
  {
   "cell_type": "code",
   "execution_count": 33,
   "id": "caa4a449-6306-43e9-a23c-251745e743b7",
   "metadata": {},
   "outputs": [],
   "source": [
    "store.close()"
   ]
  },
  {
   "cell_type": "code",
   "execution_count": null,
   "id": "fb2c4bcc-af91-422b-9a2c-07e9a062b2ab",
   "metadata": {},
   "outputs": [],
   "source": []
  }
 ],
 "metadata": {
  "kernelspec": {
   "display_name": "Python 3 (ipykernel)",
   "language": "python",
   "name": "python3"
  },
  "language_info": {
   "codemirror_mode": {
    "name": "ipython",
    "version": 3
   },
   "file_extension": ".py",
   "mimetype": "text/x-python",
   "name": "python",
   "nbconvert_exporter": "python",
   "pygments_lexer": "ipython3",
   "version": "3.9.7"
  }
 },
 "nbformat": 4,
 "nbformat_minor": 5
}
