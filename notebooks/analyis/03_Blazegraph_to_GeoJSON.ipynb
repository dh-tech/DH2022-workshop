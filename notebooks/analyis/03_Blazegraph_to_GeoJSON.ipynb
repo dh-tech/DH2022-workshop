{
 "cells": [
  {
   "cell_type": "markdown",
   "metadata": {},
   "source": [
    "# Using the geojson generator"
   ]
  },
  {
   "cell_type": "markdown",
   "metadata": {},
   "source": [
    "## Import the packages"
   ]
  },
  {
   "cell_type": "code",
   "execution_count": 1,
   "metadata": {},
   "outputs": [],
   "source": [
    "import pandas as pd"
   ]
  },
  {
   "cell_type": "code",
   "execution_count": 2,
   "metadata": {},
   "outputs": [],
   "source": [
    "from convert2geojson import Convert2GeoJson\n",
    "from SPARQLWrapper import SPARQLWrapper, JSON"
   ]
  },
  {
   "cell_type": "code",
   "execution_count": 3,
   "metadata": {},
   "outputs": [],
   "source": [
    "def runQuery(query):\n",
    "    sparql = SPARQLWrapper(\n",
    "        \"http://localhost:8080/blazegraph/namespace/kb/sparql\" # This is the workshop endpoint\n",
    "    )\n",
    "    sparql.setReturnFormat(JSON)                     # and we want json as returns\n",
    "    sparql.setQuery(query)\n",
    "    try:\n",
    "        ret = sparql.queryAndConvert()\n",
    "        return ret[\"results\"][\"bindings\"]\n",
    "    except Exception as e:\n",
    "        print(e)\n",
    "        return "
   ]
  },
  {
   "cell_type": "markdown",
   "metadata": {},
   "source": [
    "## 1) Load annotations that have coordinate data"
   ]
  },
  {
   "cell_type": "code",
   "execution_count": 24,
   "metadata": {},
   "outputs": [],
   "source": [
    "linkedObjects = runQuery(\"\"\"\n",
    "prefix rdf: <http://www.w3.org/1999/02/22-rdf-syntax-ns#>\n",
    "prefix oa: <http://www.w3.org/ns/oa#>\n",
    "prefix geojson: <https://purl.org/geojson/vocab#>\n",
    "\n",
    "SELECT  ?name ?anno ?coord1 ?coord2\n",
    "    FROM <http://example.org/ns/users/malte/genesis-example-geo2>\n",
    "WHERE { \n",
    "      ?anno a oa:Annotation ;\n",
    "        oa:hasTarget / oa:hasSelector / oa:exact ?name .\n",
    "      ?anno a oa:Annotation ;\n",
    "        oa:hasBody / geojson:geometry / geojson:coordinates ?coords .\n",
    "      ?coords rdf:first ?coord1 ;\n",
    "          rdf:rest / rdf:first ?coord2 .\n",
    "  }\n",
    "\"\"\"\n",
    ")\n"
   ]
  },
  {
   "cell_type": "code",
   "execution_count": 34,
   "metadata": {},
   "outputs": [
    {
     "data": {
      "text/plain": [
       "[{'coord1': {'datatype': 'http://www.w3.org/2001/XMLSchema#double',\n",
       "   'type': 'literal',\n",
       "   'value': '14.32854'},\n",
       "  'coord2': {'datatype': 'http://www.w3.org/2001/XMLSchema#double',\n",
       "   'type': 'literal',\n",
       "   'value': '35.9064'},\n",
       "  'anno': {'type': 'uri',\n",
       "   'value': 'https://recogito.pelagios.org/annotation/a6f6c0b4-f0e9-4040-a55e-519f7e0ba913'},\n",
       "  'name': {'datatype': 'http://www.w3.org/2001/XMLSchema#string',\n",
       "   'type': 'literal',\n",
       "   'value': 'Ir'}},\n",
       " {'coord1': {'datatype': 'http://www.w3.org/2001/XMLSchema#double',\n",
       "   'type': 'literal',\n",
       "   'value': '44.403333'},\n",
       "  'coord2': {'datatype': 'http://www.w3.org/2001/XMLSchema#double',\n",
       "   'type': 'literal',\n",
       "   'value': '14.211389'},\n",
       "  'anno': {'type': 'uri',\n",
       "   'value': 'https://recogito.pelagios.org/annotation/ec0b357e-8dbd-4412-8384-af56ce8f24b3'},\n",
       "  'name': {'datatype': 'http://www.w3.org/2001/XMLSchema#string',\n",
       "   'type': 'literal',\n",
       "   'value': 'Sephar'}}]"
      ]
     },
     "execution_count": 34,
     "metadata": {},
     "output_type": "execute_result"
    }
   ],
   "source": [
    "linkedObjects[:2]"
   ]
  },
  {
   "cell_type": "code",
   "execution_count": 56,
   "metadata": {},
   "outputs": [],
   "source": [
    "geoDataframe = pd.DataFrame([[y[x]['value'] for x in ['coord1', 'coord2', 'anno', 'name']] for y in linkedObjects],columns=['latitude', 'longitude', 'annotation', 'name'])"
   ]
  },
  {
   "cell_type": "code",
   "execution_count": 73,
   "metadata": {},
   "outputs": [],
   "source": [
    "df = pd.DataFrame([(float(tup[0]), float(tup[1]), tup[2], '<br/>'.join(g0.annotation.values)) for tup, g0 in geoDataframe.groupby(['latitude', 'longitude', 'name'])], columns=['latitude', 'longitude', 'name',  'annotation'])"
   ]
  },
  {
   "cell_type": "code",
   "execution_count": 74,
   "metadata": {},
   "outputs": [
    {
     "data": {
      "text/html": [
       "<div>\n",
       "<style scoped>\n",
       "    .dataframe tbody tr th:only-of-type {\n",
       "        vertical-align: middle;\n",
       "    }\n",
       "\n",
       "    .dataframe tbody tr th {\n",
       "        vertical-align: top;\n",
       "    }\n",
       "\n",
       "    .dataframe thead th {\n",
       "        text-align: right;\n",
       "    }\n",
       "</style>\n",
       "<table border=\"1\" class=\"dataframe\">\n",
       "  <thead>\n",
       "    <tr style=\"text-align: right;\">\n",
       "      <th></th>\n",
       "      <th>latitude</th>\n",
       "      <th>longitude</th>\n",
       "      <th>name</th>\n",
       "      <th>annotation</th>\n",
       "    </tr>\n",
       "  </thead>\n",
       "  <tbody>\n",
       "    <tr>\n",
       "      <th>0</th>\n",
       "      <td>-73.329280</td>\n",
       "      <td>42.027310</td>\n",
       "      <td>Canaan</td>\n",
       "      <td>https://recogito.pelagios.org/annotation/c8ad7...</td>\n",
       "    </tr>\n",
       "    <tr>\n",
       "      <th>1</th>\n",
       "      <td>121.597990</td>\n",
       "      <td>17.038090</td>\n",
       "      <td>Eden</td>\n",
       "      <td>https://recogito.pelagios.org/annotation/d02a0...</td>\n",
       "    </tr>\n",
       "    <tr>\n",
       "      <th>2</th>\n",
       "      <td>14.328540</td>\n",
       "      <td>35.906400</td>\n",
       "      <td>Ir</td>\n",
       "      <td>https://recogito.pelagios.org/annotation/a6f6c...</td>\n",
       "    </tr>\n",
       "    <tr>\n",
       "      <th>3</th>\n",
       "      <td>17.090000</td>\n",
       "      <td>-23.317000</td>\n",
       "      <td>Rehoboth</td>\n",
       "      <td>https://recogito.pelagios.org/annotation/3e443...</td>\n",
       "    </tr>\n",
       "    <tr>\n",
       "      <th>4</th>\n",
       "      <td>34.500000</td>\n",
       "      <td>41.500000</td>\n",
       "      <td>Assyria</td>\n",
       "      <td>https://recogito.pelagios.org/annotation/c6538...</td>\n",
       "    </tr>\n",
       "    <tr>\n",
       "      <th>5</th>\n",
       "      <td>34.606980</td>\n",
       "      <td>31.381760</td>\n",
       "      <td>Gerar</td>\n",
       "      <td>https://recogito.pelagios.org/annotation/bbf00...</td>\n",
       "    </tr>\n",
       "    <tr>\n",
       "      <th>6</th>\n",
       "      <td>35.375640</td>\n",
       "      <td>33.559930</td>\n",
       "      <td>Sidon</td>\n",
       "      <td>https://recogito.pelagios.org/annotation/c8ae7...</td>\n",
       "    </tr>\n",
       "    <tr>\n",
       "      <th>7</th>\n",
       "      <td>44.403333</td>\n",
       "      <td>14.211389</td>\n",
       "      <td>Sephar</td>\n",
       "      <td>https://recogito.pelagios.org/annotation/ec0b3...</td>\n",
       "    </tr>\n",
       "    <tr>\n",
       "      <th>8</th>\n",
       "      <td>44.500000</td>\n",
       "      <td>31.500000</td>\n",
       "      <td>Euphrates</td>\n",
       "      <td>https://recogito.pelagios.org/annotation/4b119...</td>\n",
       "    </tr>\n",
       "    <tr>\n",
       "      <th>9</th>\n",
       "      <td>67.500000</td>\n",
       "      <td>42.500000</td>\n",
       "      <td>Gaza</td>\n",
       "      <td>https://recogito.pelagios.org/annotation/ad0d4...</td>\n",
       "    </tr>\n",
       "  </tbody>\n",
       "</table>\n",
       "</div>"
      ],
      "text/plain": [
       "     latitude  longitude       name  \\\n",
       "0  -73.329280  42.027310     Canaan   \n",
       "1  121.597990  17.038090       Eden   \n",
       "2   14.328540  35.906400         Ir   \n",
       "3   17.090000 -23.317000   Rehoboth   \n",
       "4   34.500000  41.500000    Assyria   \n",
       "5   34.606980  31.381760      Gerar   \n",
       "6   35.375640  33.559930      Sidon   \n",
       "7   44.403333  14.211389     Sephar   \n",
       "8   44.500000  31.500000  Euphrates   \n",
       "9   67.500000  42.500000       Gaza   \n",
       "\n",
       "                                          annotation  \n",
       "0  https://recogito.pelagios.org/annotation/c8ad7...  \n",
       "1  https://recogito.pelagios.org/annotation/d02a0...  \n",
       "2  https://recogito.pelagios.org/annotation/a6f6c...  \n",
       "3  https://recogito.pelagios.org/annotation/3e443...  \n",
       "4  https://recogito.pelagios.org/annotation/c6538...  \n",
       "5  https://recogito.pelagios.org/annotation/bbf00...  \n",
       "6  https://recogito.pelagios.org/annotation/c8ae7...  \n",
       "7  https://recogito.pelagios.org/annotation/ec0b3...  \n",
       "8  https://recogito.pelagios.org/annotation/4b119...  \n",
       "9  https://recogito.pelagios.org/annotation/ad0d4...  "
      ]
     },
     "execution_count": 74,
     "metadata": {},
     "output_type": "execute_result"
    }
   ],
   "source": [
    "df"
   ]
  },
  {
   "cell_type": "markdown",
   "metadata": {},
   "source": [
    "### Build GeoJSON\n",
    "\n",
    "Note that not every dataframe row contains information on longitude or latitude. These rows are dropped from the dataframe. Therefore, the number of found features may vary.\n",
    "\n",
    "Instantiate using the dataframe, a list of properties to be displayed in popups, and the column titles for the geodata. By adding `.convert()` the geojson is created directly after instantiation."
   ]
  },
  {
   "cell_type": "code",
   "execution_count": 75,
   "metadata": {},
   "outputs": [],
   "source": [
    "build = Convert2GeoJson(dataframe=df, properties=df.columns, lat='latitude',lon='longitude').convert()"
   ]
  },
  {
   "cell_type": "markdown",
   "metadata": {},
   "source": [
    "You can provide additional information for the geoJSON by adding an attribution (`attribution='Generated by ...'`) and a description (`description='Shows the ...`).\n"
   ]
  },
  {
   "cell_type": "markdown",
   "metadata": {},
   "source": [
    "The generated geoJSON in dictionary format can be accessed by `.geojson()`."
   ]
  },
  {
   "cell_type": "code",
   "execution_count": 76,
   "metadata": {},
   "outputs": [
    {
     "data": {
      "text/plain": [
       "dict_keys(['type', 'features', 'properties'])"
      ]
     },
     "execution_count": 76,
     "metadata": {},
     "output_type": "execute_result"
    }
   ],
   "source": [
    "geojson = build.geojson()\n",
    "geojson.keys()"
   ]
  },
  {
   "cell_type": "markdown",
   "metadata": {},
   "source": [
    "To save the generated geoJSON as a file, chose"
   ]
  },
  {
   "cell_type": "code",
   "execution_count": null,
   "metadata": {},
   "outputs": [],
   "source": [
    "#build.save('./data/testGEO.geojson')"
   ]
  },
  {
   "cell_type": "markdown",
   "metadata": {},
   "source": [
    "You can also provide parameters for the filename (`name='data.geojson'`) or path (`path='.'`)."
   ]
  },
  {
   "cell_type": "markdown",
   "metadata": {},
   "source": [
    "### Display result\n",
    "\n",
    "The package uses ipyleaflet to generate the map for the geoJSON data. \n",
    "\n",
    "Markers on maps can be drawn fully (standard) or grouped with leaflets `MarkerCluster` (style='grouped'). The basemap for the background mapping is loaded from CartoDBs 'base-light-nolabels' source. Additonal parameters include customized basemaps or layouting for the map."
   ]
  },
  {
   "cell_type": "code",
   "execution_count": 80,
   "metadata": {},
   "outputs": [],
   "source": [
    "mapD = build.display()"
   ]
  },
  {
   "cell_type": "code",
   "execution_count": 81,
   "metadata": {},
   "outputs": [
    {
     "data": {
      "application/vnd.jupyter.widget-view+json": {
       "model_id": "7eab840d99234a4ca78e7a5704b68304",
       "version_major": 2,
       "version_minor": 0
      },
      "text/plain": [
       "Map(center=[34.0573203, 26.6307879], controls=(ZoomControl(options=['position', 'zoom_in_text', 'zoom_in_title…"
      ]
     },
     "metadata": {},
     "output_type": "display_data"
    }
   ],
   "source": [
    "mapD"
   ]
  },
  {
   "cell_type": "markdown",
   "metadata": {},
   "source": [
    "## 2)  Added value\n",
    "\n",
    "Find rivers that are linked by `P53_has_location` to a geolocated postition. Use this information to create a dataframe and geojson, that plots the tagged rivers on a map. "
   ]
  },
  {
   "cell_type": "code",
   "execution_count": 82,
   "metadata": {},
   "outputs": [],
   "source": [
    "landObjects = runQuery(\n",
    "\"\"\"\n",
    " PREFIX crm: <http://cidoc-crm.org/cidoc-crm/>\n",
    "\n",
    "    SELECT ?sub ?obj\n",
    "        FROM <http://example.org/ns/users/malte/genesis-example-geo2>\n",
    "    WHERE {\n",
    "        ?sub crm:P53_has_location ?obj .\n",
    "    }\n",
    "\"\"\"\n",
    ")"
   ]
  },
  {
   "cell_type": "code",
   "execution_count": 83,
   "metadata": {},
   "outputs": [
    {
     "data": {
      "text/plain": [
       "[{'sub': {'type': 'uri',\n",
       "   'value': 'http://example.org/ns/users/malte/genesis-example-geo2/places/Havilah'},\n",
       "  'obj': {'type': 'uri',\n",
       "   'value': 'http://example.org/ns/users/malte/genesis-example-geo2/rivers/Pishon'}},\n",
       " {'sub': {'type': 'uri',\n",
       "   'value': 'http://example.org/ns/users/malte/genesis-example-geo2/places/Cush'},\n",
       "  'obj': {'type': 'uri',\n",
       "   'value': 'http://example.org/ns/users/malte/genesis-example-geo2/rivers/Gihon'}},\n",
       " {'sub': {'type': 'uri',\n",
       "   'value': 'http://example.org/ns/users/malte/genesis-example-geo2/places/Assyria'},\n",
       "  'obj': {'type': 'uri',\n",
       "   'value': 'http://example.org/ns/users/malte/genesis-example-geo2/rivers/Hiddekel'}}]"
      ]
     },
     "execution_count": 83,
     "metadata": {},
     "output_type": "execute_result"
    }
   ],
   "source": [
    "landObjects"
   ]
  },
  {
   "cell_type": "code",
   "execution_count": null,
   "metadata": {},
   "outputs": [],
   "source": []
  }
 ],
 "metadata": {
  "kernelspec": {
   "display_name": "Python 3 (ipykernel)",
   "language": "python",
   "name": "python3"
  },
  "language_info": {
   "codemirror_mode": {
    "name": "ipython",
    "version": 3
   },
   "file_extension": ".py",
   "mimetype": "text/x-python",
   "name": "python",
   "nbconvert_exporter": "python",
   "pygments_lexer": "ipython3",
   "version": "3.9.7"
  },
  "nav_menu": {},
  "toc": {
   "navigate_menu": true,
   "number_sections": true,
   "sideBar": true,
   "threshold": 6,
   "toc_cell": false,
   "toc_section_display": "block",
   "toc_window_display": true
  },
  "toc_position": {
   "height": "807.3px",
   "left": "0px",
   "right": "1708px",
   "top": "135.7px",
   "width": "212px"
  }
 },
 "nbformat": 4,
 "nbformat_minor": 4
}
