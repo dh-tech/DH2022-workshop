{
 "cells": [
  {
   "cell_type": "markdown",
   "metadata": {},
   "source": [
    "# Using the geojson generator"
   ]
  },
  {
   "cell_type": "markdown",
   "metadata": {},
   "source": [
    "## Import the packages"
   ]
  },
  {
   "cell_type": "code",
   "execution_count": 20,
   "metadata": {},
   "outputs": [],
   "source": [
    "import pandas as pd"
   ]
  },
  {
   "cell_type": "code",
   "execution_count": 21,
   "metadata": {},
   "outputs": [],
   "source": [
    "from convert2geojson import Convert2GeoJson\n",
    "from SPARQLWrapper import SPARQLWrapper, JSON"
   ]
  },
  {
   "cell_type": "code",
   "execution_count": 22,
   "metadata": {},
   "outputs": [],
   "source": [
    "def runQuery(query):\n",
    "    sparql = SPARQLWrapper(\n",
    "        \"http://localhost:8080/blazegraph/namespace/kb/sparql\" # This is the workshop endpoint\n",
    "    )\n",
    "    sparql.setReturnFormat(JSON)                     # and we want json as returns\n",
    "    sparql.setQuery(query)\n",
    "    try:\n",
    "        ret = sparql.queryAndConvert()\n",
    "        return ret[\"results\"][\"bindings\"]\n",
    "    except Exception as e:\n",
    "        print(e)\n",
    "        return "
   ]
  },
  {
   "cell_type": "markdown",
   "metadata": {},
   "source": [
    "## Load data from graph"
   ]
  },
  {
   "cell_type": "code",
   "execution_count": 25,
   "metadata": {},
   "outputs": [],
   "source": [
    "linkedObjects = runQuery(\"\"\"prefix rdf: <http://www.w3.org/1999/02/22-rdf-syntax-ns#>\n",
    "prefix rdfs: <http://www.w3.org/2000/01/rdf-schema#>\n",
    "PREFIX crm: <http://cidoc-crm.org/cidoc-crm/>\n",
    "prefix oa: <http://www.w3.org/ns/oa#>\n",
    "prefix myfix: <file:///home/jupyter-mvogl/mydata/>\n",
    "prefix geojson: <https://purl.org/geojson/vocab#>\n",
    "\n",
    "SELECT  ?vals ?coord1\n",
    "    FROM <http://example.org/ns/users/malte/genesis-example-geo2>\n",
    "WHERE { \n",
    "      ?anno a oa:Annotation ;\n",
    "  oa:hasBody / geojson:geometry / geojson:coordinates ?vals.\n",
    "  ?vals rdf:first ?coord1 .\n",
    "  }\n",
    "\"\"\"\n",
    ")\n"
   ]
  },
  {
   "cell_type": "code",
   "execution_count": 26,
   "metadata": {},
   "outputs": [
    {
     "data": {
      "text/plain": [
       "[{'vals': {'type': 'uri',\n",
       "   'value': 'http://example.org/ns/users/malte/genesis-example-geo2/bnode_N44b439df4e784a9882d6f794de0e0411'},\n",
       "  'coord1': {'datatype': 'http://www.w3.org/2001/XMLSchema#double',\n",
       "   'type': 'literal',\n",
       "   'value': '-73.32928'}},\n",
       " {'vals': {'type': 'uri',\n",
       "   'value': 'http://example.org/ns/users/malte/genesis-example-geo2/bnode_Nd27b3948be4346368f075c865abd25ce'},\n",
       "  'coord1': {'datatype': 'http://www.w3.org/2001/XMLSchema#double',\n",
       "   'type': 'literal',\n",
       "   'value': '44.403333'}},\n",
       " {'vals': {'type': 'uri',\n",
       "   'value': 'http://example.org/ns/users/malte/genesis-example-geo2/bnode_N760a37b6bc1e4b1a92585a731535b1fb'},\n",
       "  'coord1': {'datatype': 'http://www.w3.org/2001/XMLSchema#double',\n",
       "   'type': 'literal',\n",
       "   'value': '67.5'}},\n",
       " {'vals': {'type': 'uri',\n",
       "   'value': 'http://example.org/ns/users/malte/genesis-example-geo2/bnode_N743842abb85b4979a29b6a62912aade6'},\n",
       "  'coord1': {'datatype': 'http://www.w3.org/2001/XMLSchema#double',\n",
       "   'type': 'literal',\n",
       "   'value': '34.60698'}},\n",
       " {'vals': {'type': 'uri',\n",
       "   'value': 'http://example.org/ns/users/malte/genesis-example-geo2/bnode_N05ce2b28709f4f359281178ba170f255'},\n",
       "  'coord1': {'datatype': 'http://www.w3.org/2001/XMLSchema#double',\n",
       "   'type': 'literal',\n",
       "   'value': '35.37564'}},\n",
       " {'vals': {'type': 'uri',\n",
       "   'value': 'http://example.org/ns/users/malte/genesis-example-geo2/bnode_N21f5346dfbe64e5bacd3bb9588b436ba'},\n",
       "  'coord1': {'datatype': 'http://www.w3.org/2001/XMLSchema#double',\n",
       "   'type': 'literal',\n",
       "   'value': '34.5'}},\n",
       " {'vals': {'type': 'uri',\n",
       "   'value': 'http://example.org/ns/users/malte/genesis-example-geo2/bnode_N4f6af8dd75c549c0a550f737ebe4cfb1'},\n",
       "  'coord1': {'datatype': 'http://www.w3.org/2001/XMLSchema#double',\n",
       "   'type': 'literal',\n",
       "   'value': '35.37564'}},\n",
       " {'vals': {'type': 'uri',\n",
       "   'value': 'http://example.org/ns/users/malte/genesis-example-geo2/bnode_Nd147c256781f4918b3034e456b050f7c'},\n",
       "  'coord1': {'datatype': 'http://www.w3.org/2001/XMLSchema#double',\n",
       "   'type': 'literal',\n",
       "   'value': '44.5'}},\n",
       " {'vals': {'type': 'uri',\n",
       "   'value': 'http://example.org/ns/users/malte/genesis-example-geo2/bnode_N6c11f054914e4972aebc425b7c11c8d5'},\n",
       "  'coord1': {'datatype': 'http://www.w3.org/2001/XMLSchema#double',\n",
       "   'type': 'literal',\n",
       "   'value': '14.32854'}},\n",
       " {'vals': {'type': 'uri',\n",
       "   'value': 'http://example.org/ns/users/malte/genesis-example-geo2/bnode_N0ebc1be901d24665b6407a64f84f1dbc'},\n",
       "  'coord1': {'datatype': 'http://www.w3.org/2001/XMLSchema#double',\n",
       "   'type': 'literal',\n",
       "   'value': '34.5'}},\n",
       " {'vals': {'type': 'uri',\n",
       "   'value': 'http://example.org/ns/users/malte/genesis-example-geo2/bnode_Ndebe06d5e30c469ca0565e7531e7555f'},\n",
       "  'coord1': {'datatype': 'http://www.w3.org/2001/XMLSchema#double',\n",
       "   'type': 'literal',\n",
       "   'value': '121.59799'}},\n",
       " {'vals': {'type': 'uri',\n",
       "   'value': 'http://example.org/ns/users/malte/genesis-example-geo2/bnode_N41c6ade7e21041c1a2a487e643f8a605'},\n",
       "  'coord1': {'datatype': 'http://www.w3.org/2001/XMLSchema#double',\n",
       "   'type': 'literal',\n",
       "   'value': '17.09'}},\n",
       " {'vals': {'type': 'uri',\n",
       "   'value': 'http://example.org/ns/users/malte/genesis-example-geo2/bnode_N606471fb640740218875767e6fef9db8'},\n",
       "  'coord1': {'datatype': 'http://www.w3.org/2001/XMLSchema#double',\n",
       "   'type': 'literal',\n",
       "   'value': '-73.32928'}}]"
      ]
     },
     "execution_count": 26,
     "metadata": {},
     "output_type": "execute_result"
    }
   ],
   "source": [
    "linkedObjects"
   ]
  },
  {
   "cell_type": "code",
   "execution_count": 27,
   "metadata": {},
   "outputs": [],
   "source": [
    "linkedObjects = runQuery(\"\"\"\n",
    "    PREFIX crm: <http://cidoc-crm.org/cidoc-crm/>\n",
    "\n",
    "    SELECT ?place ?river\n",
    "        FROM <http://example.org/ns/users/malte/genesis-example-geo2>\n",
    "    WHERE {\n",
    "        ?place crm:P53_has_location ?river .\n",
    "    }\n",
    "    LIMIT 1000\n",
    "    \"\"\"\n",
    ")"
   ]
  },
  {
   "cell_type": "code",
   "execution_count": 28,
   "metadata": {},
   "outputs": [
    {
     "data": {
      "text/plain": [
       "[{'place': {'type': 'uri',\n",
       "   'value': 'http://example.org/ns/users/malte/genesis-example-geo2/places/Havilah'},\n",
       "  'river': {'type': 'uri',\n",
       "   'value': 'http://example.org/ns/users/malte/genesis-example-geo2/rivers/Pishon'}},\n",
       " {'place': {'type': 'uri',\n",
       "   'value': 'http://example.org/ns/users/malte/genesis-example-geo2/places/Cush'},\n",
       "  'river': {'type': 'uri',\n",
       "   'value': 'http://example.org/ns/users/malte/genesis-example-geo2/rivers/Gihon'}},\n",
       " {'place': {'type': 'uri',\n",
       "   'value': 'http://example.org/ns/users/malte/genesis-example-geo2/places/Assyria'},\n",
       "  'river': {'type': 'uri',\n",
       "   'value': 'http://example.org/ns/users/malte/genesis-example-geo2/rivers/Hiddekel'}}]"
      ]
     },
     "execution_count": 28,
     "metadata": {},
     "output_type": "execute_result"
    }
   ],
   "source": [
    "linkedObjects"
   ]
  },
  {
   "cell_type": "markdown",
   "metadata": {},
   "source": [
    "## Build GeoJSON and save to disc\n",
    "\n",
    "Note that not every dataframe row contains information on longitude or latitude. These rows are dropped from the dataframe. Therefore, the number of found features may vary.\n",
    "\n",
    "Instantiate using the dataframe, a list of properties to be displayed in popups, and the column titles for the geodata. By adding `.convert()` the geojson is created directly after instantiation."
   ]
  },
  {
   "cell_type": "code",
   "execution_count": null,
   "metadata": {},
   "outputs": [],
   "source": [
    "build = Convert2GeoJson(dataframe=df, properties=df.columns, lat='latitude',lon='longitude').convert()"
   ]
  },
  {
   "cell_type": "markdown",
   "metadata": {},
   "source": [
    "You can provide additional information for the geoJSON by adding an attribution (`attribution='Generated by ...'`) and a description (`description='Shows the ...`).\n"
   ]
  },
  {
   "cell_type": "markdown",
   "metadata": {},
   "source": [
    "The generated geoJSON in dictionary format can be accessed by `.geojson()`."
   ]
  },
  {
   "cell_type": "code",
   "execution_count": null,
   "metadata": {},
   "outputs": [],
   "source": [
    "geojson = build.geojson()\n",
    "geojson.keys()"
   ]
  },
  {
   "cell_type": "markdown",
   "metadata": {},
   "source": [
    "To save the generated geoJSON as a file, chose"
   ]
  },
  {
   "cell_type": "code",
   "execution_count": null,
   "metadata": {},
   "outputs": [],
   "source": [
    "#build.save('./data/testGEO.geojson')"
   ]
  },
  {
   "cell_type": "markdown",
   "metadata": {},
   "source": [
    "You can also provide parameters for the filename (`name='data.geojson'`) or path (`path='.'`)."
   ]
  },
  {
   "cell_type": "markdown",
   "metadata": {},
   "source": [
    "## Display result\n",
    "\n",
    "The package uses ipyleaflet to generate the map for the geoJSON data. \n",
    "\n",
    "Markers on maps can be drawn fully (standard) or grouped with leaflets `MarkerCluster` (style='grouped'). The basemap for the background mapping is loaded from CartoDBs 'base-light-nolabels' source. Additonal parameters include customized basemaps or layouting for the map."
   ]
  },
  {
   "cell_type": "code",
   "execution_count": null,
   "metadata": {},
   "outputs": [],
   "source": [
    "mapD = build.display(style='grouped')"
   ]
  },
  {
   "cell_type": "code",
   "execution_count": null,
   "metadata": {},
   "outputs": [],
   "source": [
    "mapD"
   ]
  },
  {
   "cell_type": "code",
   "execution_count": null,
   "metadata": {},
   "outputs": [],
   "source": []
  }
 ],
 "metadata": {
  "kernelspec": {
   "display_name": "Python 3 (ipykernel)",
   "language": "python",
   "name": "python3"
  },
  "language_info": {
   "codemirror_mode": {
    "name": "ipython",
    "version": 3
   },
   "file_extension": ".py",
   "mimetype": "text/x-python",
   "name": "python",
   "nbconvert_exporter": "python",
   "pygments_lexer": "ipython3",
   "version": "3.9.7"
  },
  "nav_menu": {},
  "toc": {
   "navigate_menu": true,
   "number_sections": true,
   "sideBar": true,
   "threshold": 6,
   "toc_cell": false,
   "toc_section_display": "block",
   "toc_window_display": true
  },
  "toc_position": {
   "height": "807.3px",
   "left": "0px",
   "right": "1708px",
   "top": "135.7px",
   "width": "212px"
  }
 },
 "nbformat": 4,
 "nbformat_minor": 4
}
