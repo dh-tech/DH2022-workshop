{
 "cells": [
  {
   "cell_type": "code",
   "execution_count": null,
   "id": "8eac25fe-ed64-411f-adc2-620a045dbb75",
   "metadata": {},
   "outputs": [],
   "source": [
    "from rdflib import Dataset, URIRef, Literal\n",
    "from rdflib import Namespace\n",
    "from rdflib.namespace import RDF, RDFS"
   ]
  },
  {
   "cell_type": "code",
   "execution_count": null,
   "id": "8d2da2b6-e413-4531-9599-3df232166570",
   "metadata": {},
   "outputs": [],
   "source": [
    "CRM = Namespace('http://cidoc-crm.org/cidoc-crm/')"
   ]
  },
  {
   "cell_type": "code",
   "execution_count": null,
   "id": "64549339-27cf-4644-9bc2-2986c9142398",
   "metadata": {},
   "outputs": [],
   "source": [
    "# the URI for our named graph that will contain our data\n",
    "# CHANGE URI to the one you used in the last notebook and uncomment\n",
    "# anno_named_graph_uri = 'http://example.org/ns/users/robcast/genesis-example'\n",
    "anno_named_graph_uriref = URIRef(anno_named_graph_uri)"
   ]
  },
  {
   "cell_type": "code",
   "execution_count": null,
   "id": "0e42d686-25ae-49ea-a530-175e5055ca60",
   "metadata": {},
   "outputs": [],
   "source": [
    "# open a connection to the Blazegraph triple store\n",
    "blazegraph_uri = 'http://localhost:8080/blazegraph/namespace/kb/sparql'\n",
    "store = Dataset('SPARQLUpdateStore')\n",
    "store.open((blazegraph_uri, blazegraph_uri))"
   ]
  },
  {
   "cell_type": "code",
   "execution_count": null,
   "id": "3a77f485-f5b5-410f-9710-21fcc5f16ecb",
   "metadata": {},
   "outputs": [],
   "source": [
    "# find our named graph if it exists or create a new one\n",
    "anno_named_graph = None\n",
    "for g in store.graphs():\n",
    "    if g.identifier == anno_named_graph_uriref:\n",
    "        anno_named_graph = g\n",
    "\n",
    "if anno_named_graph is None:\n",
    "    anno_named_graph = store.graph(anno_named_graph_uriref)"
   ]
  },
  {
   "cell_type": "code",
   "execution_count": null,
   "id": "8152b24b-613a-48c2-b47a-a539be701174",
   "metadata": {},
   "outputs": [],
   "source": [
    "# find all annotations of type PERSON and extract the annotated name\n",
    "persons = {}\n",
    "\n",
    "res = anno_named_graph.query(\"\"\"\n",
    "prefix oa: <http://www.w3.org/ns/oa#>\n",
    "\n",
    "SELECT ?anno ?name\n",
    "WHERE {\n",
    "  GRAPH <%s> {\n",
    "    ?anno a oa:Annotation ;\n",
    "      oa:hasBody / rdf:value \"PERSON\" ;\n",
    "      oa:hasTarget / oa:hasSelector / oa:exact ?name .\n",
    "  }\n",
    "}\n",
    "\"\"\"%(anno_named_graph_uri))\n",
    "\n",
    "for r in res:\n",
    "    name = str(r.name)\n",
    "    if name in persons:\n",
    "        persons[name].append(r.anno)\n",
    "    else:\n",
    "        persons[name] = [r.anno]"
   ]
  },
  {
   "cell_type": "code",
   "execution_count": null,
   "id": "ed47b782-1b12-4659-a323-b108a4b88fb0",
   "metadata": {},
   "outputs": [],
   "source": [
    "# create crm:E21_Person entries for each person\n",
    "for name, annos in persons.items():\n",
    "    person_uri = URIRef(f\"{anno_named_graph_uri}/persons/{name}\")\n",
    "    # person_uri is a crm:E21_Person\n",
    "    anno_named_graph.add((person_uri, RDF.type, CRM.E21_Person))\n",
    "    # person has label name\n",
    "    anno_named_graph.add((person_uri, RDFS.label, Literal(name)))\n",
    "    \n",
    "    for anno_uri in annos:\n",
    "        # annotation_uri documents person_uri \n",
    "        anno_named_graph.add((anno_uri, CRM.E70_documents, person_uri))\n"
   ]
  },
  {
   "cell_type": "code",
   "execution_count": null,
   "id": "42dc9ffc-73b7-411c-9211-9af57f399a19",
   "metadata": {},
   "outputs": [],
   "source": [
    "store.close()"
   ]
  }
 ],
 "metadata": {
  "kernelspec": {
   "display_name": "Python 3 (ipykernel)",
   "language": "python",
   "name": "python3"
  },
  "language_info": {
   "codemirror_mode": {
    "name": "ipython",
    "version": 3
   },
   "file_extension": ".py",
   "mimetype": "text/x-python",
   "name": "python",
   "nbconvert_exporter": "python",
   "pygments_lexer": "ipython3",
   "version": "3.9.7"
  }
 },
 "nbformat": 4,
 "nbformat_minor": 5
}
