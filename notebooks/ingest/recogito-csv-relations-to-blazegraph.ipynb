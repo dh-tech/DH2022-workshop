{
 "cells": [
  {
   "cell_type": "code",
   "execution_count": null,
   "id": "5d8e648a-de6b-48a4-b8e1-d9a909f30eb5",
   "metadata": {},
   "outputs": [],
   "source": [
    "from rdflib import Dataset, URIRef\n",
    "from rdflib import Namespace\n",
    "import csv"
   ]
  },
  {
   "cell_type": "code",
   "execution_count": null,
   "id": "175aaade-152b-49bf-8a3c-2bef1cbed461",
   "metadata": {},
   "outputs": [],
   "source": [
    "CRM = Namespace('http://cidoc-crm.org/cidoc-crm/')"
   ]
  },
  {
   "cell_type": "code",
   "execution_count": null,
   "id": "dc40b52f-9534-4151-b782-61cd510c5417",
   "metadata": {},
   "outputs": [],
   "source": [
    "# the URI for our named graph that will contain our data\n",
    "# CHANGE URI to the one used previously and uncomment\n",
    "# anno_named_graph_uri = 'http://example.org/ns/users/robcast/genesis-example'\n",
    "anno_named_graph_uriref = URIRef(anno_named_graph_uri)"
   ]
  },
  {
   "cell_type": "code",
   "execution_count": null,
   "id": "6f9c06cd-7cda-439d-adf4-988aa811c032",
   "metadata": {},
   "outputs": [],
   "source": [
    "# open a connection to the Blazegraph triple store\n",
    "blazegraph_uri = 'http://localhost:8080/blazegraph/namespace/kb/sparql'\n",
    "store = Dataset('SPARQLUpdateStore')\n",
    "store.open((blazegraph_uri, blazegraph_uri))"
   ]
  },
  {
   "cell_type": "code",
   "execution_count": null,
   "id": "776120bd-c35b-45df-90ec-19c44da6a2f1",
   "metadata": {},
   "outputs": [],
   "source": [
    "# find our named graph if it exists or create a new one\n",
    "anno_named_graph = None\n",
    "for g in store.graphs():\n",
    "    if g.identifier == anno_named_graph_uriref:\n",
    "        anno_named_graph = g\n",
    "\n",
    "if anno_named_graph is None:\n",
    "    anno_named_graph = store.graph(anno_named_graph_uriref)"
   ]
  },
  {
   "cell_type": "code",
   "execution_count": null,
   "id": "9fdda506-476c-435b-866b-f59be9e4aa6d",
   "metadata": {},
   "outputs": [],
   "source": [
    "# read relations from CSV file\n",
    "with open('recogito-genesis-relations.csv', newline='') as csvfile:\n",
    "    csvreader = csv.DictReader(csvfile)\n",
    "    for row in csvreader:\n",
    "        source_name = row['source']\n",
    "        target_name = row['target']\n",
    "        rel_type = row['relation']\n",
    "        print(f\"relation: {source_name} - {rel_type} -> {target_name}\")\n",
    "        \n",
    "        if rel_type == 'is father of':\n",
    "            source_person = URIRef(f\"{anno_named_graph_uri}/persons/{source_name.replace(' ', '_')}\")\n",
    "            target_person = URIRef(f\"{anno_named_graph_uri}/persons/{target_name.replace(' ', '_')}\")\n",
    "            # create father_of as crm:P152_has_parent relation\n",
    "            anno_named_graph.add((target_person, CRM.P152_has_parent, source_person))\n",
    "            \n",
    "            # we could add a relation linked to the concrete annotations in the source\n",
    "            #source_id = row['source_id']\n",
    "            #target_id = row['target_id']\n",
    "            #target_anno = URIRef(f\"https://recogito.pelagios.org/annotation/{target_id}\")\n",
    "            #source_anno = URIRef(f\"https://recogito.pelagios.org/annotation/{source_id}\")\n",
    "            \n",
    "        else:\n",
    "            print(f\"don't know what to do with {relation_type=}\")"
   ]
  },
  {
   "cell_type": "code",
   "execution_count": null,
   "id": "c8a60a69-837c-4986-ac31-c94edd2cba07",
   "metadata": {},
   "outputs": [],
   "source": [
    "store.close()"
   ]
  },
  {
   "cell_type": "code",
   "execution_count": null,
   "id": "e0927052-f2a0-49f0-9911-b84c3db8fc5e",
   "metadata": {},
   "outputs": [],
   "source": []
  }
 ],
 "metadata": {
  "kernelspec": {
   "display_name": "Python 3 (ipykernel)",
   "language": "python",
   "name": "python3"
  },
  "language_info": {
   "codemirror_mode": {
    "name": "ipython",
    "version": 3
   },
   "file_extension": ".py",
   "mimetype": "text/x-python",
   "name": "python",
   "nbconvert_exporter": "python",
   "pygments_lexer": "ipython3",
   "version": "3.9.7"
  }
 },
 "nbformat": 4,
 "nbformat_minor": 5
}
