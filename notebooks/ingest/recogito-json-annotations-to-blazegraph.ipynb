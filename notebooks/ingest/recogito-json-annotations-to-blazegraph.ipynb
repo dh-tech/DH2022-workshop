{
 "cells": [
  {
   "cell_type": "code",
   "execution_count": null,
   "id": "c526513a-b38c-4f1b-ba81-5b93539f54cc",
   "metadata": {},
   "outputs": [],
   "source": [
    "from rdflib import Graph, Dataset, URIRef\n",
    "import re"
   ]
  },
  {
   "cell_type": "code",
   "execution_count": null,
   "id": "20a42114-1e7f-48eb-849a-bd2d5e476154",
   "metadata": {},
   "outputs": [],
   "source": [
    "# the URI for our named graph that will contain our data\n",
    "anno_named_graph_uri = URIRef('http://example.org/ns/users/robcast/genesis-example')"
   ]
  },
  {
   "cell_type": "code",
   "execution_count": null,
   "id": "b46fab8b-67db-410a-b27d-c7d84607fd86",
   "metadata": {},
   "outputs": [],
   "source": [
    "# read the JSON-LD file with annotations from Recogito into a Graph\n",
    "anno_graph = Graph()\n",
    "anno_graph.parse('recogito-genesis-annotations.jsonld', \n",
    "                format='json-ld',\n",
    "                publicId=anno_named_graph_uri)"
   ]
  },
  {
   "cell_type": "code",
   "execution_count": null,
   "id": "5d3aecd9-6935-4b82-8e2f-d9ff28f6e93f",
   "metadata": {},
   "outputs": [],
   "source": [
    "# write the Graph with annotations to a n-triples file\n",
    "anno_graph.serialize('recogito-genesis-annotations.nt', format='nt', encoding='utf-8')"
   ]
  },
  {
   "cell_type": "code",
   "execution_count": null,
   "id": "fc146d2d-c200-48de-b199-abbf70984b3c",
   "metadata": {},
   "outputs": [],
   "source": [
    "# read the n-triples file and replace all blank nodes (starting with _:) with real URIs\n",
    "# and write that to a new file\n",
    "with open('recogito-genesis-annotations.nt', 'r') as infile, open('recogito-genesis-annotations-nb.nt', 'w') as outfile:\n",
    "    for line in infile:\n",
    "        line = re.sub(r'_:([^ ]+)', r'<http://example.org/ns/users/robcast/genesis-example-2/bnode_\\1>', line)\n",
    "        print(line, file=outfile)"
   ]
  },
  {
   "cell_type": "code",
   "execution_count": null,
   "id": "4f91fc24-b8b5-4fbc-9302-87f24742a982",
   "metadata": {},
   "outputs": [],
   "source": [
    "# open a connection to the Blazegraph triple store\n",
    "blazegraph_uri = 'http://localhost:8080/blazegraph/namespace/kb/sparql'\n",
    "store = Dataset('SPARQLUpdateStore')\n",
    "store.open((blazegraph_uri, blazegraph_uri))"
   ]
  },
  {
   "cell_type": "code",
   "execution_count": null,
   "id": "3ebbfced-3edd-4d6b-ad45-653c5e1840ea",
   "metadata": {},
   "outputs": [],
   "source": [
    "# find our named graph if it exists or create a new one\n",
    "anno_named_graph = None\n",
    "for g in store.graphs():\n",
    "    if g.identifier == anno_named_graph_uri:\n",
    "        anno_named_graph = g\n",
    "\n",
    "if anno_named_graph is None:\n",
    "    anno_named_graph = store.graph(URIRef(anno_named_graph_uri))"
   ]
  },
  {
   "cell_type": "code",
   "execution_count": null,
   "id": "3a05a975-081a-40cf-ad41-308bcbfc0bab",
   "metadata": {},
   "outputs": [],
   "source": [
    "# parse our modified n-triples file into our named graph (takes a while)\n",
    "anno_named_graph.parse('recogito-genesis-annotations-nb.nt')"
   ]
  },
  {
   "cell_type": "code",
   "execution_count": null,
   "id": "caa4a449-6306-43e9-a23c-251745e743b7",
   "metadata": {},
   "outputs": [],
   "source": [
    "store.close()"
   ]
  },
  {
   "cell_type": "code",
   "execution_count": null,
   "id": "fb2c4bcc-af91-422b-9a2c-07e9a062b2ab",
   "metadata": {},
   "outputs": [],
   "source": []
  }
 ],
 "metadata": {
  "kernelspec": {
   "display_name": "Python 3 (ipykernel)",
   "language": "python",
   "name": "python3"
  },
  "language_info": {
   "codemirror_mode": {
    "name": "ipython",
    "version": 3
   },
   "file_extension": ".py",
   "mimetype": "text/x-python",
   "name": "python",
   "nbconvert_exporter": "python",
   "pygments_lexer": "ipython3",
   "version": "3.9.7"
  }
 },
 "nbformat": 4,
 "nbformat_minor": 5
}
